{
  "nbformat": 4,
  "nbformat_minor": 0,
  "metadata": {
    "colab": {
      "provenance": [],
      "authorship_tag": "ABX9TyNXxBFksCfghy2js8unyjic",
      "include_colab_link": true
    },
    "kernelspec": {
      "name": "python3",
      "display_name": "Python 3"
    },
    "language_info": {
      "name": "python"
    }
  },
  "cells": [
    {
      "cell_type": "markdown",
      "metadata": {
        "id": "view-in-github",
        "colab_type": "text"
      },
      "source": [
        "<a href=\"https://colab.research.google.com/github/GustavMartinez/GustavMartinez.github.io/blob/main/Numpy_Practice.ipynb\" target=\"_parent\"><img src=\"https://colab.research.google.com/assets/colab-badge.svg\" alt=\"Open In Colab\"/></a>"
      ]
    },
    {
      "cell_type": "markdown",
      "source": [
        "### Import Numpy Library"
      ],
      "metadata": {
        "id": "at3PSauV5m_v"
      }
    },
    {
      "cell_type": "code",
      "source": [
        "import numpy as np"
      ],
      "metadata": {
        "id": "vsAlfb8Ay0Dn"
      },
      "execution_count": null,
      "outputs": []
    },
    {
      "cell_type": "markdown",
      "source": [
        "Para iniciar, se crea un objeto de tipo lista. Este objeto se convierte posteriormente a un objeto de tipo array con Numpy"
      ],
      "metadata": {
        "id": "e4GR_6YP5vLF"
      }
    },
    {
      "cell_type": "code",
      "source": [
        "lista = [1,2,3,4,5,6,7,8,9]\n",
        "\n",
        "listArray = np.array(lista)\n",
        "\n",
        "listArray"
      ],
      "metadata": {
        "colab": {
          "base_uri": "https://localhost:8080/"
        },
        "id": "gSXsa1lUzzRm",
        "outputId": "f988de34-4393-45ed-c38a-a87967af2831"
      },
      "execution_count": null,
      "outputs": [
        {
          "output_type": "execute_result",
          "data": {
            "text/plain": [
              "array([1, 2, 3, 4, 5, 6, 7, 8, 9])"
            ]
          },
          "metadata": {},
          "execution_count": 15
        }
      ]
    },
    {
      "cell_type": "markdown",
      "source": [
        "Asi como se puede crear un array, se pueden crear matrizes de multiples dimensiones, por ejemplo la siguiente matriz fue creada y convertida a un array en Numpy"
      ],
      "metadata": {
        "id": "OS9JFVoe6ITH"
      }
    },
    {
      "cell_type": "code",
      "source": [
        "matriz = [[1,2,3],[4,5,6],[7,8,9]]\n",
        "\n",
        "matrizArray = np.array(matriz)\n",
        "\n",
        "matrizArray"
      ],
      "metadata": {
        "colab": {
          "base_uri": "https://localhost:8080/"
        },
        "id": "eI97WgQK0EKn",
        "outputId": "3ef5e20c-8ef5-4d53-dfa3-983f8687c0f8"
      },
      "execution_count": null,
      "outputs": [
        {
          "output_type": "execute_result",
          "data": {
            "text/plain": [
              "array([[1, 2, 3],\n",
              "       [4, 5, 6],\n",
              "       [7, 8, 9]])"
            ]
          },
          "metadata": {},
          "execution_count": 16
        }
      ]
    },
    {
      "cell_type": "markdown",
      "source": [
        "**Indexing** Funciona igual que la extracción de datos en listas normales de python. El primer elemento comienza con el index de 0, si el elemento es una lista, se puede acceder a un elemento dentro de esta adicionando una coma. Ejemplos:"
      ],
      "metadata": {
        "id": "dtJjVQtI60sP"
      }
    },
    {
      "cell_type": "code",
      "source": [
        "matrizDeEjemplo = [[0,1,2,3,4],[5,6,7,8,9],[10,11,12,13,14]]\n",
        "mtrz = np.array(matrizDeEjemplo)\n",
        "\n",
        "print(mtrz[0]) #Extrae el elemento de index 0 de la matriz\n",
        "print(mtrz[1]) #Extrae el elemento de index 1 de la matriz\n",
        "print(mtrz[2]) #Extrae el elemento de index 2 de la matriz\n",
        "\n",
        "print(mtrz[0,0]) #Extrae el elemento de index 0 de la lista en index 0\n",
        "print(mtrz[0,2]) #Extrae el elemento de index 2 de la lista en index 0\n",
        "print(mtrz[0,4]) #Extrae el elemento de index 4 de la lista en index 0\n",
        "print(mtrz[1,1]) #Extrae el elemento de index 1 de la lista en index 1\n",
        "print(mtrz[1,3]) #Extrae el elemento de index 3 de la lista en index 1\n",
        "print(mtrz[2,4]) #Extrae el elemento de index 4 de la lista en index 2\n",
        "\n",
        "print(mtrz[0:2]) #Extrae el slicing especificado"
      ],
      "metadata": {
        "colab": {
          "base_uri": "https://localhost:8080/"
        },
        "id": "TkypoFN-4qz2",
        "outputId": "b466d584-7778-4519-afd0-c4a2e4224a80"
      },
      "execution_count": null,
      "outputs": [
        {
          "output_type": "stream",
          "name": "stdout",
          "text": [
            "[0 1 2 3 4]\n",
            "[5 6 7 8 9]\n",
            "[10 11 12 13 14]\n",
            "0\n",
            "2\n",
            "4\n",
            "6\n",
            "8\n",
            "14\n",
            "[[0 1 2 3 4]\n",
            " [5 6 7 8 9]]\n"
          ]
        }
      ]
    },
    {
      "cell_type": "markdown",
      "source": [
        "**Tipos de datos en Numpy** Para ver el tipo de dato creado por Numpy, se utiliza el método dtype"
      ],
      "metadata": {
        "id": "VKTtiZ6LChfe"
      }
    },
    {
      "cell_type": "code",
      "source": [
        "matrizDeEjemplo = [[0,1,2,3,4],[5,6,7,8,9],[10,11,12,13,14]] #Definición del Array\n",
        "mtrz.dtype    #método para identificar el tipo de dato del array"
      ],
      "metadata": {
        "colab": {
          "base_uri": "https://localhost:8080/"
        },
        "id": "6OYs7h1p9uOE",
        "outputId": "e040aba0-43a0-4b27-a7ca-b9bd6d1dc565"
      },
      "execution_count": null,
      "outputs": [
        {
          "output_type": "execute_result",
          "data": {
            "text/plain": [
              "dtype('int64')"
            ]
          },
          "metadata": {},
          "execution_count": 28
        }
      ]
    },
    {
      "cell_type": "markdown",
      "source": [
        "To explicitly set the data type of the resulting array, we can use the dtype keyword"
      ],
      "metadata": {
        "id": "U0A_Boyq7rYt"
      }
    },
    {
      "cell_type": "code",
      "source": [
        "arrayDtype = np.array([0,1,2,3,4], dtype=np.float32) #Primera forma de definir el tipo de dato\n",
        "arrayDtype2 = np.array([0,1,2,3,4], dtype='float32') #Segunda forma de definir el tipo de dato\n",
        "arrayDtype.dtype\n",
        "arrayDtype2.dtype"
      ],
      "metadata": {
        "id": "4XBF8Bk5DBVG",
        "colab": {
          "base_uri": "https://localhost:8080/"
        },
        "outputId": "ad14e4b3-1295-426d-f5a4-e4eab51798b2"
      },
      "execution_count": null,
      "outputs": [
        {
          "output_type": "execute_result",
          "data": {
            "text/plain": [
              "dtype('float32')"
            ]
          },
          "metadata": {},
          "execution_count": 5
        }
      ]
    },
    {
      "cell_type": "markdown",
      "source": [
        "Para convertir un array a un tipo de dato específico, se usa el método \"astype\":"
      ],
      "metadata": {
        "id": "v34J9y-U9hRj"
      }
    },
    {
      "cell_type": "code",
      "source": [
        "lista001 = [0,1,2,3,4]\n",
        "array001 = np.array(lista001)\n",
        "\n",
        "array001 = array001.astype(np.float64)\n",
        "\n",
        "print(array001)"
      ],
      "metadata": {
        "colab": {
          "base_uri": "https://localhost:8080/"
        },
        "id": "Xgdb495O8LFC",
        "outputId": "720af0ea-4550-4db6-9051-b6659d121676"
      },
      "execution_count": null,
      "outputs": [
        {
          "output_type": "stream",
          "name": "stdout",
          "text": [
            "[0. 1. 2. 3. 4.]\n"
          ]
        }
      ]
    },
    {
      "cell_type": "markdown",
      "source": [
        "De la misma forma, con el paso anterior puedo convertir el array a diferentes tipos de datos."
      ],
      "metadata": {
        "id": "pHGDGNtz-kYL"
      }
    },
    {
      "cell_type": "markdown",
      "source": [
        "Posteriormente, tambien es posible identificar el 'shape' del array:"
      ],
      "metadata": {
        "id": "2Shwcaob4dOy"
      }
    },
    {
      "cell_type": "code",
      "source": [
        "array001.shape"
      ],
      "metadata": {
        "colab": {
          "base_uri": "https://localhost:8080/"
        },
        "id": "uRdKrmjv4bV9",
        "outputId": "f2108e36-78f2-4d93-ed25-a2170cb75e43"
      },
      "execution_count": null,
      "outputs": [
        {
          "output_type": "execute_result",
          "data": {
            "text/plain": [
              "(5,)"
            ]
          },
          "metadata": {},
          "execution_count": 6
        }
      ]
    },
    {
      "cell_type": "code",
      "source": [],
      "metadata": {
        "id": "nCrbyjSw4nIJ"
      },
      "execution_count": null,
      "outputs": []
    }
  ]
}